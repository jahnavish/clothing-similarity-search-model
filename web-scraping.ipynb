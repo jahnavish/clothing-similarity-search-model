{
 "cells": [
  {
   "cell_type": "code",
   "execution_count": 1,
   "id": "6a4cf0bc-fd52-46b7-ac92-f2b016bc9388",
   "metadata": {},
   "outputs": [],
   "source": [
    "# IMPORT ALL THE NECESSARY LIBRARIES\n",
    "# Selenium is being used for web scraping the various e-commerce websites to gather data\n",
    "\n",
    "from selenium import webdriver\n",
    "from selenium.webdriver.common.by import By\n",
    "import pandas as pd\n",
    "import time"
   ]
  },
  {
   "cell_type": "code",
   "execution_count": 2,
   "id": "83690fa9-a5d0-4585-ae44-0988daaa377c",
   "metadata": {},
   "outputs": [],
   "source": [
    "# The two lists, 'product_link' is used to store all the URLs of the clothing items\n",
    "# 'product_description' stores the descriptions of the items\n",
    "\n",
    "product_link = []\n",
    "product_description = []\n",
    "\n",
    "# The function 'extract_from_site_1' is used to extract data from the website 'AJIO'\n",
    "\n",
    "def extract_from_site_1():\n",
    "    clothes_cont = driver.find_elements(By.XPATH, '//div[@class=\"ReactVirtualized__Grid__innerScrollContainer\"]')\n",
    "    for clothes in clothes_cont:\n",
    "        cloth_links = clothes.find_elements(By.CLASS_NAME, 'rilrtl-products-list__link') # The URL links of the clothing items\n",
    "        for links in cloth_links:\n",
    "            product_link.append(links.get_attribute('href')) # The links are appended to the list\n",
    "        descriptions = clothes.find_elements(By.CLASS_NAME, 'nameCls') # The descriptions of the clothing items\n",
    "        for desc in descriptions:\n",
    "            product_description.append(desc.text) # The descriptions are appended to the list"
   ]
  },
  {
   "cell_type": "code",
   "execution_count": 3,
   "id": "9927a7c4-6953-41ee-b06c-e4b368abade2",
   "metadata": {},
   "outputs": [
    {
     "name": "stderr",
     "output_type": "stream",
     "text": [
      "C:\\Users\\Jahnavi\\AppData\\Local\\Temp\\ipykernel_23112\\1731764353.py:5: DeprecationWarning: executable_path has been deprecated, please pass in a Service object\n",
      "  driver = webdriver.Chrome(path)\n"
     ]
    }
   ],
   "source": [
    "# The website being scraped is 'AJIO'\n",
    "\n",
    "website = 'https://www.ajio.com/'\n",
    "path = 'chromedriver.exe' # This is the path to the chromedriver, which may be different as per the user.\n",
    "driver = webdriver.Chrome(path)\n",
    "driver.get(website)\n",
    "\n",
    "men_button = driver.find_element(By.XPATH, '//a[@title=\"MEN\"]') # Navigates to the men's section of the website using XPATH to locate the element\n",
    "men_button.click() # This method is used to click on the button\n",
    "\n",
    "tshirts_men_button = driver.find_element(By.XPATH, '//a[@href=\"/s/tees-4986-46111\"]') # Navigates to the t-shirts section\n",
    "tshirts_men_button.click()\n",
    "extract_from_site_1() # Calling the function to extract data from the webpage\n",
    "\n",
    "# This process is repeated again for different sections on AJIO, to include as many clothing items and variations as possible\n",
    "\n",
    "driver.get('https://www.ajio.com/men-jackets-coats/c/830216010')\n",
    "extract_from_site_1()\n",
    "\n",
    "driver.get('https://www.ajio.com/men-sweatshirt-hoodies/c/830216011')\n",
    "extract_from_site_1()\n",
    "\n",
    "driver.get('https://www.ajio.com/men-trousers-pants/c/830216004')\n",
    "extract_from_site_1()\n",
    "\n",
    "driver.get('https://www.ajio.com/men-shorts-3-4ths/c/830216002')\n",
    "extract_from_site_1()\n",
    "\n",
    "driver.get('https://www.ajio.com/men-jeans/c/830216001')\n",
    "extract_from_site_1()\n",
    "\n",
    "driver.get('https://www.ajio.com/men-shirts/c/830216013')\n",
    "extract_from_site_1()\n",
    "\n",
    "# Navigates to the women's Section on 'AJIO'\n",
    "\n",
    "driver.get('https://www.ajio.com/c/830316018')\n",
    "extract_from_site_1()\n",
    "\n",
    "driver.get('https://www.ajio.com/c/830316007')\n",
    "extract_from_site_1()\n",
    "\n",
    "driver.get('https://www.ajio.com/s/women-skirts-and-shorts-3621-51391')\n",
    "extract_from_site_1()\n",
    "\n",
    "driver.get('https://www.ajio.com/c/830316012')\n",
    "extract_from_site_1()\n",
    "\n",
    "driver.get('https://www.ajio.com/c/830316001')\n",
    "extract_from_site_1()\n",
    "\n",
    "driver.get('https://www.ajio.com/c/830316006')\n",
    "extract_from_site_1()\n",
    "\n",
    "driver.get('https://www.ajio.com/women-sweatshirts-hoodies/c/830316013')\n",
    "extract_from_site_1()\n",
    "\n",
    "driver.quit() # Terminates the browser instance\n",
    "\n",
    "# Pandas is used to create a DataFrame by passing dictionary of lists. The key(s) 'desc'\n",
    "# indicate discription of the clothing items and 'link' is for the URLs, with the values\n",
    "# being the lists created previously to which the data has been appended\n",
    "\n",
    "df = pd.DataFrame({'desc': product_description, 'link': product_link})\n",
    "\n",
    "# Exporting the data to a csv file\n",
    "\n",
    "df.to_csv('clothing_dataset.csv', index=False)"
   ]
  },
  {
   "cell_type": "code",
   "execution_count": 4,
   "id": "23902ed4-b646-4ad6-83a0-dc5feefcb98c",
   "metadata": {},
   "outputs": [
    {
     "name": "stdout",
     "output_type": "stream",
     "text": [
      "                                              desc  \\\n",
      "0                      Colour-Blocked Polo T-shirt   \n",
      "1            Colour-block Regular Fit Polo T-shirt   \n",
      "2                        Striped Crew-Neck T-shirt   \n",
      "3              Typographic Slim Fit Hooded T-Shirt   \n",
      "4                    Colourblock Crew-Neck T-Shirt   \n",
      "..                                             ...   \n",
      "625             Floral Print Round-Neck Sweatshirt   \n",
      "626             Ombre-Dyed Hoodie with Brand Print   \n",
      "627                             Brand Print Hoodie   \n",
      "628         Donald Duck Print Crew-Neck Sweatshirt   \n",
      "629  Typographic Print Hoodie with Kangaroo Pocket   \n",
      "\n",
      "                                                  link  \n",
      "0    https://www.ajio.com/eyebogler-colour-blocked-...  \n",
      "1    https://www.ajio.com/gespo-colour-block-regula...  \n",
      "2    https://www.ajio.com/ausk-striped-crew-neck-t-...  \n",
      "3    https://www.ajio.com/trythis-typographic-slim-...  \n",
      "4    https://www.ajio.com/eyebogler-colourblock-cre...  \n",
      "..                                                 ...  \n",
      "625  https://www.ajio.com/dnmx-floral-print-round-n...  \n",
      "626  https://www.ajio.com/lee-cooper-ombre-dyed-hoo...  \n",
      "627  https://www.ajio.com/gap-brand-print-hoodie/p/...  \n",
      "628  https://www.ajio.com/dnmx-donald-duck-print-cr...  \n",
      "629  https://www.ajio.com/dnmx-typographic-print-ho...  \n",
      "\n",
      "[630 rows x 2 columns]\n"
     ]
    }
   ],
   "source": [
    "print(df)"
   ]
  },
  {
   "cell_type": "code",
   "execution_count": null,
   "id": "9af5b2d0-d78b-4585-8ca8-a6931bb7d1b9",
   "metadata": {},
   "outputs": [],
   "source": []
  }
 ],
 "metadata": {
  "kernelspec": {
   "display_name": "Python 3 (ipykernel)",
   "language": "python",
   "name": "python3"
  },
  "language_info": {
   "codemirror_mode": {
    "name": "ipython",
    "version": 3
   },
   "file_extension": ".py",
   "mimetype": "text/x-python",
   "name": "python",
   "nbconvert_exporter": "python",
   "pygments_lexer": "ipython3",
   "version": "3.9.13"
  }
 },
 "nbformat": 4,
 "nbformat_minor": 5
}
