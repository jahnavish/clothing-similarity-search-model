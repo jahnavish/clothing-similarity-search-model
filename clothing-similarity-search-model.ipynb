{
 "cells": [
  {
   "cell_type": "markdown",
   "id": "a8ff071e-66f9-44cc-a4a7-4261eee5a709",
   "metadata": {},
   "source": [
    "# CLOTHING SIMILARITY SEARCH MODEL\n",
    "\n",
    "This is a ***Clothing Similarity Search Model*** that receives text describing a clothing item and returns a ranked list of links to similar items from e-commerce websites. The data is initially **pre-processed**, **text vectorization** is applied then the **similarity is computed** before the model **returns a ranked list of similar clothing items**."
   ]
  },
  {
   "cell_type": "code",
   "execution_count": 1,
   "id": "19616336-3b95-4308-9845-570799f9ce31",
   "metadata": {},
   "outputs": [],
   "source": [
    "# import the necessary libraries\n",
    "\n",
    "import numpy as np\n",
    "import pandas as pd\n",
    "import json"
   ]
  },
  {
   "cell_type": "code",
   "execution_count": 2,
   "id": "dda1001f-d713-44ed-9665-bd8ca9fae90d",
   "metadata": {},
   "outputs": [],
   "source": [
    "clothes = pd.read_csv('clothing_dataset.csv')"
   ]
  },
  {
   "cell_type": "code",
   "execution_count": 3,
   "id": "c80b9618-8449-47a5-93a9-eb2b238b4295",
   "metadata": {},
   "outputs": [
    {
     "data": {
      "text/plain": [
       "desc    0\n",
       "link    0\n",
       "dtype: int64"
      ]
     },
     "execution_count": 3,
     "metadata": {},
     "output_type": "execute_result"
    }
   ],
   "source": [
    "clothes.isnull().sum() # to check for any null values"
   ]
  },
  {
   "cell_type": "code",
   "execution_count": 4,
   "id": "f347eb26-4359-420b-8719-4f9d170fded4",
   "metadata": {},
   "outputs": [
    {
     "data": {
      "text/plain": [
       "0"
      ]
     },
     "execution_count": 4,
     "metadata": {},
     "output_type": "execute_result"
    }
   ],
   "source": [
    "clothes.duplicated().sum() # to check duplicates"
   ]
  },
  {
   "cell_type": "code",
   "execution_count": 5,
   "id": "f4637631-37f7-4169-9f37-b673168bddc7",
   "metadata": {},
   "outputs": [],
   "source": [
    "clothes_mod = clothes\n",
    "clothes_mod['desc'] = clothes_mod['desc'].apply(lambda x:x.split()) # splits the words in the description and puts them in a list"
   ]
  },
  {
   "cell_type": "code",
   "execution_count": 6,
   "id": "1c0b12c8-a511-4281-ab57-636d91a50219",
   "metadata": {},
   "outputs": [],
   "source": [
    "# remove any spaces and hyphens in the description, say Crew Neck or \n",
    "# Crew-Neck to CrewNeck to avoid errors in the search system\n",
    "\n",
    "clothes_mod['desc'] = clothes_mod['desc'].apply(lambda x:[i.replace(\" \", \"\") for i in x]) # spaces\n",
    "clothes_mod['desc'] = clothes_mod['desc'].apply(lambda x:[i.replace(\"-\", \"\") for i in x]) # hyphens"
   ]
  },
  {
   "cell_type": "code",
   "execution_count": 7,
   "id": "c8db4edf-9197-445e-b297-c3fd57e4678e",
   "metadata": {},
   "outputs": [],
   "source": [
    "# converting the list of description to a string\n",
    "\n",
    "clothes_mod['desc'] = clothes_mod['desc'].apply(lambda x: \" \".join(x))"
   ]
  },
  {
   "cell_type": "code",
   "execution_count": 8,
   "id": "30bc365d-e194-4675-b4d2-6cda7a5711e4",
   "metadata": {},
   "outputs": [],
   "source": [
    "# convert the string into lowercase\n",
    "\n",
    "clothes_mod['desc'] = clothes_mod['desc'].apply(lambda x:x.lower())"
   ]
  },
  {
   "cell_type": "code",
   "execution_count": 9,
   "id": "93304cc8-b60f-4ba1-a90a-f44e55bdd890",
   "metadata": {},
   "outputs": [
    {
     "data": {
      "text/plain": [
       "0              colourblocked polo tshirt\n",
       "1    colourblock regular fit polo tshirt\n",
       "2                striped crewneck tshirt\n",
       "3     typographic slim fit hooded tshirt\n",
       "4            colourblock crewneck tshirt\n",
       "Name: desc, dtype: object"
      ]
     },
     "execution_count": 9,
     "metadata": {},
     "output_type": "execute_result"
    }
   ],
   "source": [
    "clothes_mod['desc'].head()"
   ]
  },
  {
   "cell_type": "markdown",
   "id": "6a6a9434-19c9-4ef5-948b-195d62d4e0b1",
   "metadata": {},
   "source": [
    "### STEMMING\n",
    "\n",
    "We will apply stemming on the data in order to normalize the text as there may be multiple variations of the same word.\n",
    "\n",
    "nltk is a famous natural language processing library. Install nltk using **'pip install nltk'**."
   ]
  },
  {
   "cell_type": "code",
   "execution_count": 10,
   "id": "cb5b6bd8-4a46-4475-874b-7c9405e28973",
   "metadata": {},
   "outputs": [],
   "source": [
    "import nltk\n",
    "from nltk.stem.porter import PorterStemmer\n",
    "ps = PorterStemmer()\n",
    "\n",
    "def stem(text):\n",
    "    y = []\n",
    "    for i in text.split():\n",
    "        y.append(ps.stem(i))\n",
    "    \n",
    "    return \" \".join(y)"
   ]
  },
  {
   "cell_type": "code",
   "execution_count": 11,
   "id": "e614c839-68a3-433a-8846-d2a330ce2c0d",
   "metadata": {},
   "outputs": [],
   "source": [
    "clothes_mod['desc'] = clothes_mod['desc'].apply(stem)"
   ]
  },
  {
   "cell_type": "code",
   "execution_count": 12,
   "id": "625974b7-28e4-4aed-aecb-02365ab1f165",
   "metadata": {},
   "outputs": [
    {
     "data": {
      "text/plain": [
       "0                         colourblock polo tshirt\n",
       "1             colourblock regular fit polo tshirt\n",
       "2                          stripe crewneck tshirt\n",
       "3                  typograph slim fit hood tshirt\n",
       "4                     colourblock crewneck tshirt\n",
       "                          ...                    \n",
       "625             floral print roundneck sweatshirt\n",
       "626                ombredi hoodi with brand print\n",
       "627                             brand print hoodi\n",
       "628         donald duck print crewneck sweatshirt\n",
       "629    typograph print hoodi with kangaroo pocket\n",
       "Name: desc, Length: 630, dtype: object"
      ]
     },
     "execution_count": 12,
     "metadata": {},
     "output_type": "execute_result"
    }
   ],
   "source": [
    "clothes_mod['desc']"
   ]
  },
  {
   "cell_type": "markdown",
   "id": "ac63aa65-02fc-4239-bd0b-96c3ce1f9558",
   "metadata": {},
   "source": [
    "### TEXT VECTORIZATION USING TF-IDF TECHNIQUE\n",
    "\n",
    "Term Frequency-Inverse Document Frequency (TF-IDF) is used to score the relative importance of words in a document.\n",
    "\n",
    "Term Frequency is the number of times a word appears in a document divded by the total number of words in the document. Every document has its own term frequency.\n",
    "\n",
    "Inverse Document Frequency is the log of the number of documents divided by the number of documents that contain the word 'x'. Inverse data frequency determines the weight of rare words across all documents in the corpus.\n",
    "\n",
    "TF-IDF is implemented through the tool provided by scikit-learn library, **'TfidfVectorizer'**, which will first need to be imported. It will be used to vectorize the input text given by the user.\n",
    "\n",
    "### TEXT VECTORIZATION USING BAG OF WORDS TECHNIQUE\n",
    "\n",
    "In this approach, we look at the histogram of the words within the text, i.e. considering each word count as a feature. We will not be considering stop words (aka words that are used for sentence formation but add no value/contribution to the actual meaning of the sentence, like are, and, or, to, from, etc.)\n",
    "\n",
    "Bag of Words is implemented through the tool provided by scikit-learn library, **'CountVectorizer'**, which will first need to be imported. It will be used to vectorize the items in the dataset.\n",
    "\n",
    "### COMPUTING THE COSINE SIMILARITY BETWEEN THE VECTORS\n",
    "\n",
    "We will be calculating the Cosine Similarity of one vector with all the other vectors and repeat it for all the vectors\n",
    "\n",
    "The smaller the angle is, the lesser the distance, therefore, the two vectors (clothing items) will be more similar. Cosine distance is inversely proportional to cosine similarity.\n",
    "\n",
    "The cosime similarity can be performed manually as well but in this model, it will be computed using **'cosine_similarity'** which will need to be imported. The cosine_similarity method will compute the similarity between the input text and the items in the dataset."
   ]
  },
  {
   "cell_type": "code",
   "execution_count": 13,
   "id": "b862aa57-5154-46b1-9324-f9ffefd0bb66",
   "metadata": {},
   "outputs": [],
   "source": [
    "# import the necessary libraries\n",
    "\n",
    "from sklearn.feature_extraction.text import TfidfVectorizer\n",
    "from sklearn.feature_extraction.text import CountVectorizer\n",
    "from sklearn.metrics.pairwise import cosine_similarity"
   ]
  },
  {
   "cell_type": "code",
   "execution_count": 14,
   "id": "ba96196e-6d84-4207-9687-e47e914d8353",
   "metadata": {},
   "outputs": [],
   "source": [
    "# the 'search_for_clothes' function takes the input text describing the clothing item\n",
    "# and pre-processes it. it then uses TF-IDF technique to extract the key features from\n",
    "# the text and uses Bag of Words technique to vectorize the items in the dataset.\n",
    "# finally, it computes the similarity between the vectors and returns a ranked list of\n",
    "# similar items\n",
    "\n",
    "def search_for_clothes(text):\n",
    "    input_text = text\n",
    "\n",
    "    input_text = input_text.split() # pre-processing the input text\n",
    "    input_text = [x.strip(\" \") for x in input_text]\n",
    "    input_text = [x.replace(\"-\", \"\") for x in input_text]\n",
    "    input_text = \" \".join(input_text)\n",
    "\n",
    "    input_text = input_text.lower()\n",
    "    input_text = stem(input_text)\n",
    "\n",
    "    vectorizer_text = TfidfVectorizer() # tf-idf to extract features\n",
    "    vectors_text = vectorizer_text.fit_transform([input_text]).toarray()\n",
    "\n",
    "    cv = CountVectorizer(max_features = 600, stop_words = 'english') # bag of words technique\n",
    "\n",
    "    # there will be many 0 values in this. by default, CountVectorizer returns a SciPy sparse matrix\n",
    "    # so we will convert it to a numpy array as we need it\n",
    "\n",
    "    vectors_items = cv.fit_transform(clothes_mod['desc']).toarray()\n",
    "\n",
    "    text_vector = np.zeros(vectors_items.shape)\n",
    "    text_vector[:vectors_text.shape[0],:vectors_text.shape[1]] = vectors_text # making the vectors of equal length\n",
    "\n",
    "    similarity = cosine_similarity(vectors_items, text_vector) # computing similarity\n",
    "    similarity_score = sorted(list(enumerate(similarity)), reverse = True, key = lambda x: x[1][0]) # ranking it from most-to-least similar order\n",
    "\n",
    "    data = []\n",
    "\n",
    "    for i in similarity_score[0:9]:\n",
    "        item = []\n",
    "        temp_df = clothes_mod[clothes_mod['desc'] == clothes_mod.iloc[i[0]].desc] \n",
    "        item.extend(list(temp_df['link'].values))\n",
    "        data.append(item)\n",
    "    \n",
    "    data = data[::-1]\n",
    "    dict_data = {}\n",
    "    \n",
    "    for i in range(1, 9):\n",
    "        dict_data[i] = data[i]\n",
    "    \n",
    "    dict_data = json.dumps(dict_data) # json responses of suggestions\n",
    "    return dict_data # return ranked suggestions of similar items"
   ]
  },
  {
   "cell_type": "code",
   "execution_count": 15,
   "id": "ac809cf7-768e-4c8c-b02c-a4c608d05e1f",
   "metadata": {},
   "outputs": [
    {
     "name": "stdin",
     "output_type": "stream",
     "text": [
      "Enter the description of the clothing item:  I need a polo T-Shirt with Round-Collar and High-Rise Jeans\n"
     ]
    },
    {
     "data": {
      "text/plain": [
       "'{\"1\": [\"https://www.ajio.com/performax-fastdry-active-crew-neck-t-shirt/p/441128501_jetblack\", \"https://www.ajio.com/performax-fastdry-active-crew-neck-t-shirt/p/441128501_offwhite\", \"https://www.ajio.com/performax-fastdry-active-crew-neck-t-shirt/p/441128501_darkblue\", \"https://www.ajio.com/performax-fastdry-active-crew-neck-t-shirt/p/441128501_olive\"], \"2\": [\"https://www.ajio.com/rio-mid-rise-ankle-length-treggings/p/441132914_jetblack\"], \"3\": [\"https://www.ajio.com/marie-claire-striped-a-line-skirt/p/463946777_black\"], \"4\": [\"https://www.ajio.com/addyvero-solid-a-line-skirt/p/464142949_black\"], \"5\": [\"https://www.ajio.com/winered-solid-a-line-dress/p/464028066_green\"], \"6\": [\"https://www.ajio.com/azira-floral-a-line-dress/p/463987207_pink\"], \"7\": [\"https://www.ajio.com/lee-stretchable-ankle-length-jeans/p/466126236_black\"], \"8\": [\"https://www.ajio.com/netplay-ankle-length-flat-front-pants/p/443007815_ltgrey\"]}'"
      ]
     },
     "execution_count": 15,
     "metadata": {},
     "output_type": "execute_result"
    }
   ],
   "source": [
    "text = input(\"Enter the description of the clothing item: \")\n",
    "\n",
    "search_for_clothes(text)"
   ]
  },
  {
   "cell_type": "code",
   "execution_count": null,
   "id": "bcd40c4f-f285-4810-b8de-00944faa63f2",
   "metadata": {},
   "outputs": [],
   "source": []
  }
 ],
 "metadata": {
  "kernelspec": {
   "display_name": "Python 3 (ipykernel)",
   "language": "python",
   "name": "python3"
  },
  "language_info": {
   "codemirror_mode": {
    "name": "ipython",
    "version": 3
   },
   "file_extension": ".py",
   "mimetype": "text/x-python",
   "name": "python",
   "nbconvert_exporter": "python",
   "pygments_lexer": "ipython3",
   "version": "3.9.13"
  }
 },
 "nbformat": 4,
 "nbformat_minor": 5
}
